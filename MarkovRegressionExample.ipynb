{
 "cells": [
  {
   "cell_type": "code",
   "execution_count": 1,
   "metadata": {},
   "outputs": [],
   "source": [
    "%matplotlib inline\n",
    "\n",
    "import numpy as np\n",
    "import pandas as pd\n",
    "import statsmodels.api as sm\n",
    "import matplotlib.pyplot as plt\n",
    "from io import BytesIO\n",
    "from datetime import datetime\n"
   ]
  },
  {
   "cell_type": "code",
   "execution_count": null,
   "metadata": {},
   "outputs": [],
   "source": [
    "dta = pd.read_excel(r'C:\\Users\\likeb\\Documents\\Columbia Documents\\Spring 2020\\Multi-asset Portfolio Management\\Final Project\\Final_Project.xlsx', \n",
    "                    sheet_name = \"turbulence(t)\")\n",
    "print(dta)\n",
    "dta.index = pd.DatetimeIndex(dta.Date)\n",
    "dta_regime = dta.Turbulence\n",
    "#dta_regime.plot(title='Turbulence', figsize=(12,3))\n",
    "\n",
    "# Fit the model\n",
    "regime_model = sm.tsa.MarkovRegression(dta_regime, k_regimes=2, switching_variance=True)\n",
    "#regime_model = sm.tsa.MarkovAutoregression(dta_regime, k_regimes=2, order = 2, trend = 'nc', switching_variance=True)\n",
    "res_regime = regime_model.fit()\n",
    "\n",
    "res_regime.summary()\n",
    "\n",
    "res_regime.smoothed_marginal_probabilities[1].plot(\n",
    "    title='Probability of being in the high regime', figsize=(12,3));\n"
   ]
  },
  {
   "cell_type": "code",
   "execution_count": 11,
   "metadata": {},
   "outputs": [
    {
     "name": "stdout",
     "output_type": "stream",
     "text": [
      "Date\n",
      "1976-01-31    0.034534\n",
      "1976-02-29    0.025557\n",
      "1976-03-31    0.013411\n",
      "1976-04-30    0.012132\n",
      "1976-05-31    0.015904\n",
      "                ...   \n",
      "2013-11-30    0.025014\n",
      "2013-12-31    0.019062\n",
      "2014-01-31    0.019301\n",
      "2014-02-28    0.016154\n",
      "2014-03-31    0.031037\n",
      "Name: 1, Length: 459, dtype: float64\n"
     ]
    }
   ],
   "source": [
    "pd.options.display.max_rows = 50\n",
    "print(res_regime.smoothed_marginal_probabilities[1])"
   ]
  },
  {
   "cell_type": "code",
   "execution_count": 12,
   "metadata": {},
   "outputs": [
    {
     "data": {
      "text/html": [
       "<table class=\"simpletable\">\n",
       "<caption>Markov Switching Model Results</caption>\n",
       "<tr>\n",
       "  <th>Dep. Variable:</th>      <td>Turbulence</td>    <th>  No. Observations:  </th>    <td>459</td>  \n",
       "</tr>\n",
       "<tr>\n",
       "  <th>Model:</th>           <td>MarkovRegression</td> <th>  Log Likelihood     </th> <td>-273.715</td>\n",
       "</tr>\n",
       "<tr>\n",
       "  <th>Date:</th>            <td>Fri, 08 May 2020</td> <th>  AIC                </th>  <td>559.430</td>\n",
       "</tr>\n",
       "<tr>\n",
       "  <th>Time:</th>                <td>18:11:50</td>     <th>  BIC                </th>  <td>584.205</td>\n",
       "</tr>\n",
       "<tr>\n",
       "  <th>Sample:</th>             <td>02-27-1976</td>    <th>  HQIC               </th>  <td>569.187</td>\n",
       "</tr>\n",
       "<tr>\n",
       "  <th></th>                   <td>- 03-31-2014</td>   <th>                     </th>     <td> </td>   \n",
       "</tr>\n",
       "<tr>\n",
       "  <th>Covariance Type:</th>      <td>approx</td>      <th>                     </th>     <td> </td>   \n",
       "</tr>\n",
       "</table>\n",
       "<table class=\"simpletable\">\n",
       "<caption>Regime 0 parameters</caption>\n",
       "<tr>\n",
       "     <td></td>       <th>coef</th>     <th>std err</th>      <th>z</th>      <th>P>|z|</th>  <th>[0.025</th>    <th>0.975]</th>  \n",
       "</tr>\n",
       "<tr>\n",
       "  <th>const</th>  <td>    0.7103</td> <td>    0.032</td> <td>   22.083</td> <td> 0.000</td> <td>    0.647</td> <td>    0.773</td>\n",
       "</tr>\n",
       "<tr>\n",
       "  <th>sigma2</th> <td>    0.0941</td> <td>    0.015</td> <td>    6.410</td> <td> 0.000</td> <td>    0.065</td> <td>    0.123</td>\n",
       "</tr>\n",
       "</table>\n",
       "<table class=\"simpletable\">\n",
       "<caption>Regime 1 parameters</caption>\n",
       "<tr>\n",
       "     <td></td>       <th>coef</th>     <th>std err</th>      <th>z</th>      <th>P>|z|</th>  <th>[0.025</th>    <th>0.975]</th>  \n",
       "</tr>\n",
       "<tr>\n",
       "  <th>const</th>  <td>    1.3669</td> <td>    0.095</td> <td>   14.410</td> <td> 0.000</td> <td>    1.181</td> <td>    1.553</td>\n",
       "</tr>\n",
       "<tr>\n",
       "  <th>sigma2</th> <td>    0.4066</td> <td>    0.066</td> <td>    6.199</td> <td> 0.000</td> <td>    0.278</td> <td>    0.535</td>\n",
       "</tr>\n",
       "</table>\n",
       "<table class=\"simpletable\">\n",
       "<caption>Regime transition parameters</caption>\n",
       "<tr>\n",
       "     <td></td>        <th>coef</th>     <th>std err</th>      <th>z</th>      <th>P>|z|</th>  <th>[0.025</th>    <th>0.975]</th>  \n",
       "</tr>\n",
       "<tr>\n",
       "  <th>p[0->0]</th> <td>    0.9075</td> <td>    0.034</td> <td>   26.799</td> <td> 0.000</td> <td>    0.841</td> <td>    0.974</td>\n",
       "</tr>\n",
       "<tr>\n",
       "  <th>p[1->0]</th> <td>    0.2476</td> <td>    0.076</td> <td>    3.248</td> <td> 0.001</td> <td>    0.098</td> <td>    0.397</td>\n",
       "</tr>\n",
       "</table><br/><br/>Warnings:<br/>[1] Covariance matrix calculated using numerical (complex-step) differentiation."
      ],
      "text/plain": [
       "<class 'statsmodels.iolib.summary.Summary'>\n",
       "\"\"\"\n",
       "                        Markov Switching Model Results                        \n",
       "==============================================================================\n",
       "Dep. Variable:             Turbulence   No. Observations:                  459\n",
       "Model:               MarkovRegression   Log Likelihood                -273.715\n",
       "Date:                Fri, 08 May 2020   AIC                            559.430\n",
       "Time:                        18:11:50   BIC                            584.205\n",
       "Sample:                    02-27-1976   HQIC                           569.187\n",
       "                         - 03-31-2014                                         \n",
       "Covariance Type:               approx                                         \n",
       "                             Regime 0 parameters                              \n",
       "==============================================================================\n",
       "                 coef    std err          z      P>|z|      [0.025      0.975]\n",
       "------------------------------------------------------------------------------\n",
       "const          0.7103      0.032     22.083      0.000       0.647       0.773\n",
       "sigma2         0.0941      0.015      6.410      0.000       0.065       0.123\n",
       "                             Regime 1 parameters                              \n",
       "==============================================================================\n",
       "                 coef    std err          z      P>|z|      [0.025      0.975]\n",
       "------------------------------------------------------------------------------\n",
       "const          1.3669      0.095     14.410      0.000       1.181       1.553\n",
       "sigma2         0.4066      0.066      6.199      0.000       0.278       0.535\n",
       "                         Regime transition parameters                         \n",
       "==============================================================================\n",
       "                 coef    std err          z      P>|z|      [0.025      0.975]\n",
       "------------------------------------------------------------------------------\n",
       "p[0->0]        0.9075      0.034     26.799      0.000       0.841       0.974\n",
       "p[1->0]        0.2476      0.076      3.248      0.001       0.098       0.397\n",
       "==============================================================================\n",
       "\n",
       "Warnings:\n",
       "[1] Covariance matrix calculated using numerical (complex-step) differentiation.\n",
       "\"\"\""
      ]
     },
     "execution_count": 12,
     "metadata": {},
     "output_type": "execute_result"
    }
   ],
   "source": [
    "res_regime.summary()"
   ]
  },
  {
   "cell_type": "code",
   "execution_count": 13,
   "metadata": {},
   "outputs": [],
   "source": [
    "res_regime.smoothed_marginal_probabilities[1].to_excel(r'C:\\Users\\likeb\\Documents\\Columbia Documents\\Spring 2020\\Multi-asset Portfolio Management\\Final Project\\Regime_MR.xlsx')"
   ]
  }
 ],
 "metadata": {
  "kernelspec": {
   "display_name": "Python 3",
   "language": "python",
   "name": "python3"
  },
  "language_info": {
   "codemirror_mode": {
    "name": "ipython",
    "version": 3
   },
   "file_extension": ".py",
   "mimetype": "text/x-python",
   "name": "python",
   "nbconvert_exporter": "python",
   "pygments_lexer": "ipython3",
   "version": "3.7.4"
  }
 },
 "nbformat": 4,
 "nbformat_minor": 2
}
